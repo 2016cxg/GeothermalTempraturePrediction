{
 "cells": [
  {
   "cell_type": "code",
   "execution_count": 2,
   "metadata": {},
   "outputs": [],
   "source": [
    "import pandas as pd\n",
    "import pandas as pd\n",
    "import copy\n",
    "import random as rd\n",
    "import warnings\n",
    "warnings.filterwarnings(\"ignore\")\n",
    "import matplotlib.pyplot as plt \n",
    "import math\n",
    "from matplotlib import font_manager\n",
    "\n",
    "fontP = font_manager.FontProperties()\n",
    "fontP.set_family('SimHei')\n",
    "fontP.set_size(14)"
   ]
  },
  {
   "cell_type": "code",
   "execution_count": 1,
   "metadata": {},
   "outputs": [
    {
     "data": {
      "text/plain": [
       "(38.89784353649511, 83.88044409462027)"
      ]
     },
     "execution_count": 1,
     "metadata": {},
     "output_type": "execute_result"
    }
   ],
   "source": [
    "#!/ usr/bin/python\n",
    "# -*- coding:utf-8 -*-\n",
    "import matplotlib.pyplot as plt\n",
    "import math\n",
    "\n",
    "\n",
    "def dcm2dgr(a):#大地坐标经纬度小数表示转度数表示\n",
    "    x = int(a)\n",
    "    tmpy = a-x\n",
    "    y = int(tmpy*60)\n",
    "    tmpz = tmpy*60 - y\n",
    "    z = tmpz*60\n",
    "    return (x,y,z)\n",
    "def dgr2dcm(a):#大地坐标经纬度度数表示转小数表示\n",
    "    x,y,z = a\n",
    "    return x+y/60+z/3600\n",
    "\n",
    "\n",
    "def XY2LatLon(X, Y, L0=42+39):#+39变成6度投影\n",
    "\n",
    "    iPI = 0.0174532925199433\n",
    "    a = 6378137.0\n",
    "    f= 0.00335281006247\n",
    "    ZoneWide = 3 #按3度带进行投影\n",
    "\n",
    "    ProjNo = int(X / 1000000)\n",
    "    L0 = L0 * iPI\n",
    "    X0 = ProjNo * 1000000 + 500000\n",
    "    Y0 = 0\n",
    "    xval = X - X0\n",
    "    yval = Y - Y0\n",
    "\n",
    "    e2 = 2 * f - f * f #第一偏心率平方\n",
    "    e1 = (1.0 - math.sqrt(1 - e2)) / (1.0 + math.sqrt(1 - e2))\n",
    "    ee = e2 / (1 - e2) #第二偏心率平方\n",
    "\n",
    "    M = yval\n",
    "    u = M / (a * (1 - e2 / 4 - 3 * e2 * e2 / 64 - 5 * e2 * e2 * e2 / 256))\n",
    "\n",
    "    fai = u \\\n",
    "          + (3 * e1 / 2 - 27 * e1 * e1 * e1 / 32) * math.sin(2 * u) \\\n",
    "          + (21 * e1 * e1 / 16 - 55 * e1 * e1 * e1 * e1 / 32) * math.sin(4 * u) \\\n",
    "          + (151 * e1 * e1 * e1 / 96) * math.sin(6 * u)\\\n",
    "          + (1097 * e1 * e1 * e1 * e1 / 512) * math.sin(8 * u)\n",
    "    C = ee * math.cos(fai) * math.cos(fai)\n",
    "    T = math.tan(fai) * math.tan(fai)\n",
    "    NN = a / math.sqrt(1.0 - e2 * math.sin(fai) * math.sin(fai))\n",
    "    R = a * (1 - e2) / math.sqrt(\n",
    "        (1 - e2 * math.sin(fai) * math.sin(fai)) * (1 - e2 * math.sin(fai) * math.sin(fai)) * (1 - e2 * math.sin(fai) * math.sin(fai)))\n",
    "    D = xval / NN\n",
    "\n",
    "    #计算经纬度（弧度单位的经纬度）\n",
    "    longitude1 = L0 + (D - (1 + 2 * T + C) * D * D * D / 6 + (\n",
    "    5 - 2 * C + 28 * T - 3 * C * C + 8 * ee + 24 * T * T) * D * D * D * D * D / 120) / math.cos(fai)\n",
    "    latitude1 = fai - (NN * math.tan(fai) / R) * (\n",
    "    D * D / 2 - (5 + 3 * T + 10 * C - 4 * C * C - 9 * ee) * D * D * D * D / 24 + (\n",
    "    61 + 90 * T + 298 * C + 45 * T * T - 256 * ee - 3 * C * C) * D * D * D * D * D * D / 720)\n",
    "\n",
    "    #换换为deg\n",
    "    longitude = longitude1 / iPI\n",
    "    latitude = latitude1 / iPI\n",
    "\n",
    "    return latitude, longitude\n",
    "\n",
    "\n",
    "# LatLon2XY(40.07837722329, 116.23514827596)\n",
    "# XY2LatLon(434760.7611718801, 4438512.040474475, 117.0)\n",
    "\n",
    "x = 4311109.5\n",
    "y = 14749903.4\n",
    "\n",
    "tmp = XY2LatLon(y,x)\n",
    "tmp"
   ]
  },
  {
   "cell_type": "code",
   "execution_count": 3,
   "metadata": {},
   "outputs": [],
   "source": [
    "pthLayerSeq = r'D:\\workplace\\geoproject\\pictureproject\\data\\material\\温度\\地层层序-井深.xlsx'\n",
    "dataLayerSeq= pd.read_excel(pthLayerSeq)\n",
    "pthBaseInfo = r'D:\\workplace\\geoproject\\pictureproject\\data\\material\\温度\\基本信息.xlsx'\n",
    "dataBaseInfo= pd.read_excel(pthBaseInfo)\n",
    "\n",
    "allTmprt = {}\n",
    "for index, row in dataBaseInfo.iterrows():\n",
    "    posWell = row['井位']\n",
    "    hf = row['地表热流']\n",
    "    gt = row['地表温度']\n",
    "\n",
    "    pthStaticTmprt = r'D:\\workplace\\geoproject\\pictureproject\\data\\material\\温度\\xlsx-静温\\静温-%s.xlsx' % posWell\n",
    "    staticTmprt = pd.read_excel( pthStaticTmprt )\n",
    "\n",
    "    allTmprt[posWell] = staticTmprt "
   ]
  },
  {
   "cell_type": "code",
   "execution_count": 4,
   "metadata": {},
   "outputs": [],
   "source": [
    "# 根据距离找到K个相邻的位置\n",
    "# 把目标井位的第i个深度对Kj个相邻井位求静温\n",
    "# 平均这几个静温\n",
    "\n",
    "def caldis(pos1, pos2):\n",
    "    x = pos1[0]-pos2[0]\n",
    "    y = pos1[1]-pos2[1]\n",
    "    return math.sqrt( x*x+y*y )\n",
    "\n",
    "X = []\n",
    "trainX = []\n",
    "trainXpos = []\n",
    "validX = []\n",
    "validXpos = []\n",
    "Xpos = []\n",
    "for index, row in dataBaseInfo.iterrows():\n",
    "    posWell = row['井位']\n",
    "    row = dataBaseInfo[ dataBaseInfo['井位']==posWell ]\n",
    "\n",
    "    tarX = float( row['X'] )\n",
    "    tarY = float( row['Y'] )\n",
    "\n",
    "    tarpos = XY2LatLon( tarY, tarX)\n",
    "    tarpos = (round(tarpos[0],6), round(tarpos[1], 6))\n",
    "\n",
    "    X.append( posWell )\n",
    "    Xpos.append( tarpos )\n",
    "\n",
    "trainX.extend( X[0:len(X)-1])\n",
    "trainXpos.extend( Xpos[0:len(Xpos)-1] )\n",
    "validX.append( X[-1])\n",
    "validXpos.append( Xpos[-1])"
   ]
  },
  {
   "cell_type": "code",
   "execution_count": 5,
   "metadata": {},
   "outputs": [],
   "source": [
    "tarWell = validX[0]\n",
    "tarpos = validXpos[0] "
   ]
  },
  {
   "cell_type": "code",
   "execution_count": 24,
   "metadata": {},
   "outputs": [
    {
     "name": "stdout",
     "output_type": "stream",
     "text": [
      "[0]\n"
     ]
    },
    {
     "data": {
      "text/plain": [
       "[27.51456197699421,\n",
       " 35.137436877754695,\n",
       " 44.666113879420635,\n",
       " 52.28898878018113,\n",
       " 60.86484810710966,\n",
       " 78.01640000953608,\n",
       " 95.16795191196252,\n",
       " 112.31950381438895,\n",
       " 120.89536314131749,\n",
       " 129.47122246824603,\n",
       " 138.0469150437439,\n",
       " 142.8113369202922,\n",
       " 144.71697226976698]"
      ]
     },
     "execution_count": 24,
     "metadata": {},
     "output_type": "execute_result"
    }
   ],
   "source": [
    "K = 1\n",
    "\n",
    "def guess(trainX, trainXpos, allTmprt, tarWell, tarpos, K):\n",
    "    alldis = []\n",
    "    for i in range(len(trainX)):\n",
    "        apos = trainXpos[i]\n",
    "\n",
    "        dis = caldis( tarpos, apos)\n",
    "        alldis.append( dis )\n",
    "\n",
    "    idx = sorted(range(len(alldis)), key=lambda k: alldis[k])\n",
    "    kidx = idx[0:K]\n",
    "\n",
    "    print(kidx)\n",
    "\n",
    "    alldpthht = []\n",
    "    for i in kidx:\n",
    "        wellName = trainX[i]\n",
    "        wellPos = trainXpos[i]\n",
    "\n",
    "        tmprt = allTmprt[wellName].values.tolist()\n",
    "        alldpthht.extend( tmprt )\n",
    "        # print(tmprt)\n",
    "        # print(type( tmprt))\n",
    "    alldpthht.sort(key=lambda x: x[0])\n",
    "\n",
    "    A = 0 \n",
    "    B = 0\n",
    "    C = 0\n",
    "    D = len( alldpthht )\n",
    "    E = 0\n",
    "    for i in  alldpthht :\n",
    "        A += i[0]*i[0]\n",
    "        B += i[0]\n",
    "        C += i[0]*i[1]\n",
    "        E += i[1]\n",
    "    alpha = (C*D-E*B)/(A*D-B*B)\n",
    "    beta = (A*E-C*B)/(A*D-B*B)\n",
    "\n",
    "    # tmp = [alpha*i[0]+beta for i in alldpthht]\n",
    "    # x = [i[0] for i in alldpthht]\n",
    "    # y = [i[1] for i in alldpthht]\n",
    "    # plt.plot(x, tmp)\n",
    "    # plt.scatter(x, y)\n",
    "    # plt.show()\n",
    "\n",
    "    tarTmprt = allTmprt[tarWell].values\n",
    "\n",
    "\n",
    "    lstTarTmprt = []\n",
    "    for i in range( len(tarTmprt) ):\n",
    "        apos = tarTmprt[i][0]\n",
    "        # print( apos )\n",
    "\n",
    "        lstTarTmprt.append( alpha*apos + beta )\n",
    "    return lstTarTmprt\n",
    "guess(trainX, trainXpos, allTmprt, tarWell, tarpos, 1)"
   ]
  },
  {
   "cell_type": "code",
   "execution_count": 25,
   "metadata": {},
   "outputs": [
    {
     "name": "stdout",
     "output_type": "stream",
     "text": [
      "[0]\n",
      "[0, 2]\n",
      "[0, 2, 1]\n",
      "[0, 2, 1, 3]\n"
     ]
    },
    {
     "data": {
      "text/plain": [
       "[46.14, 95.93, 65.21, 62.29]"
      ]
     },
     "execution_count": 25,
     "metadata": {},
     "output_type": "execute_result"
    }
   ],
   "source": [
    "\n",
    "\n",
    "lstError = []\n",
    "for i in range(1, 5):\n",
    "    error = 0\n",
    "    lstTarTmprt = guess(trainX, trainXpos, allTmprt, tarWell, tarpos,i)\n",
    "\n",
    "    tarTmprt = allTmprt[tarWell].values\n",
    "    \n",
    "    for i in range( len(lstTarTmprt) ):\n",
    "        guessTmprt = lstTarTmprt[i]\n",
    "        realTmprt = tarTmprt[i][1]\n",
    "        error += abs( guessTmprt-realTmprt )\n",
    "    lstError.append( round(error,2) )\n",
    "lstError"
   ]
  },
  {
   "cell_type": "code",
   "execution_count": 26,
   "metadata": {},
   "outputs": [
    {
     "data": {
      "image/png": "[encoded data removed]",
      "text/plain": [
       "<Figure size 432x288 with 1 Axes>"
      ]
     },
     "metadata": {
      "needs_background": "light"
     },
     "output_type": "display_data"
    }
   ],
   "source": [
    "plt.plot( [k for k in range(1, len(lstError)+1)], lstError )\n",
    "plt.xlabel('K',  FontProperties=fontP)\n",
    "plt.ylabel('绝对误差',  FontProperties=fontP)\n",
    "plt.show()"
   ]
  },
  {
   "cell_type": "code",
   "execution_count": 27,
   "metadata": {},
   "outputs": [
    {
     "name": "stdout",
     "output_type": "stream",
     "text": [
      "[0]\n"
     ]
    },
    {
     "data": {
      "image/png": "[encoded data removed]",
      "text/plain": [
       "<Figure size 432x288 with 1 Axes>"
      ]
     },
     "metadata": {
      "needs_background": "light"
     },
     "output_type": "display_data"
    }
   ],
   "source": [
    "lstTarTmprt = guess(trainX, trainXpos, allTmprt, tarWell, tarpos,1)\n",
    "\n",
    "realTmprt=[tarTmprt[i][1] for i in range(len(lstTarTmprt))]\n",
    "dpth = [tarTmprt[i][0] for i in range(len(lstTarTmprt))]\n",
    "plt.plot( dpth, lstTarTmprt,'*', label='估计地温')\n",
    "plt.xlabel('深度',  FontProperties=fontP)\n",
    "plt.ylabel('地温',  FontProperties=fontP)\n",
    "plt.plot( dpth, realTmprt, 'o', label='真实地温' )\n",
    "plt.legend( prop=fontP )\n",
    "plt.show()"
   ]
  },
  {
   "cell_type": "code",
   "execution_count": 54,
   "metadata": {},
   "outputs": [
    {
     "data": {
      "text/plain": [
       "146.63"
      ]
     },
     "execution_count": 54,
     "metadata": {},
     "output_type": "execute_result"
    }
   ],
   "source": [
    "realTmprt"
   ]
  }
 ],
 "metadata": {
  "interpreter": {
   "hash": "7dc063f8a007a4028c6ebe79c824417bc30f5f951826f62a4b2313d250bc8393"
  },
  "kernelspec": {
   "display_name": "Python 3.8.8 64-bit",
   "language": "python",
   "name": "python3"
  },
  "language_info": {
   "codemirror_mode": {
    "name": "ipython",
    "version": 3
   },
   "file_extension": ".py",
   "mimetype": "text/x-python",
   "name": "python",
   "nbconvert_exporter": "python",
   "pygments_lexer": "ipython3",
   "version": "3.8.8"
  },
  "orig_nbformat": 4
 },
 "nbformat": 4,
 "nbformat_minor": 2
}
