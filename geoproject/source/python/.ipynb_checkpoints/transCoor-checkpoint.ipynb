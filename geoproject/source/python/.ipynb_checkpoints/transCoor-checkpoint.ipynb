{
 "cells": [
  {
   "cell_type": "code",
   "execution_count": 16,
   "id": "c51af5c2",
   "metadata": {},
   "outputs": [
    {
     "data": {
      "text/plain": [
       "(39.77400248554891, 81.09174235436521)"
      ]
     },
     "execution_count": 16,
     "metadata": {},
     "output_type": "execute_result"
    }
   ],
   "source": [
    "#!/ usr/bin/python\n",
    "# -*- coding:utf-8 -*-\n",
    "import matplotlib.pyplot as plt\n",
    "import math\n",
    "\n",
    "\n",
    "def dcm2dgr(a):#大地坐标经纬度小数表示转度数表示\n",
    "    x = int(a)\n",
    "    tmpy = a-x\n",
    "    y = int(tmpy*60)\n",
    "    tmpz = tmpy*60 - y\n",
    "    z = tmpz*60\n",
    "    return (x,y,z)\n",
    "def dgr2dcm(a):#大地坐标经纬度度数表示转小数表示\n",
    "    x,y,z = a\n",
    "    return x+y/60+z/3600\n",
    "\n",
    "\n",
    "def XY2LatLon(X, Y, L0=42+39):#+39变成6度投影\n",
    "\n",
    "    iPI = 0.0174532925199433\n",
    "    a = 6378137.0\n",
    "    f= 0.00335281006247\n",
    "    ZoneWide = 3 #按3度带进行投影\n",
    "\n",
    "    ProjNo = int(X / 1000000)\n",
    "    L0 = L0 * iPI\n",
    "    X0 = ProjNo * 1000000 + 500000\n",
    "    Y0 = 0\n",
    "    xval = X - X0\n",
    "    yval = Y - Y0\n",
    "\n",
    "    e2 = 2 * f - f * f #第一偏心率平方\n",
    "    e1 = (1.0 - math.sqrt(1 - e2)) / (1.0 + math.sqrt(1 - e2))\n",
    "    ee = e2 / (1 - e2) #第二偏心率平方\n",
    "\n",
    "    M = yval\n",
    "    u = M / (a * (1 - e2 / 4 - 3 * e2 * e2 / 64 - 5 * e2 * e2 * e2 / 256))\n",
    "\n",
    "    fai = u \\\n",
    "          + (3 * e1 / 2 - 27 * e1 * e1 * e1 / 32) * math.sin(2 * u) \\\n",
    "          + (21 * e1 * e1 / 16 - 55 * e1 * e1 * e1 * e1 / 32) * math.sin(4 * u) \\\n",
    "          + (151 * e1 * e1 * e1 / 96) * math.sin(6 * u)\\\n",
    "          + (1097 * e1 * e1 * e1 * e1 / 512) * math.sin(8 * u)\n",
    "    C = ee * math.cos(fai) * math.cos(fai)\n",
    "    T = math.tan(fai) * math.tan(fai)\n",
    "    NN = a / math.sqrt(1.0 - e2 * math.sin(fai) * math.sin(fai))\n",
    "    R = a * (1 - e2) / math.sqrt(\n",
    "        (1 - e2 * math.sin(fai) * math.sin(fai)) * (1 - e2 * math.sin(fai) * math.sin(fai)) * (1 - e2 * math.sin(fai) * math.sin(fai)))\n",
    "    D = xval / NN\n",
    "\n",
    "    #计算经纬度（弧度单位的经纬度）\n",
    "    longitude1 = L0 + (D - (1 + 2 * T + C) * D * D * D / 6 + (\n",
    "    5 - 2 * C + 28 * T - 3 * C * C + 8 * ee + 24 * T * T) * D * D * D * D * D / 120) / math.cos(fai)\n",
    "    latitude1 = fai - (NN * math.tan(fai) / R) * (\n",
    "    D * D / 2 - (5 + 3 * T + 10 * C - 4 * C * C - 9 * ee) * D * D * D * D / 24 + (\n",
    "    61 + 90 * T + 298 * C + 45 * T * T - 256 * ee - 3 * C * C) * D * D * D * D * D * D / 720)\n",
    "\n",
    "    #换换为deg\n",
    "    longitude = longitude1 / iPI\n",
    "    latitude = latitude1 / iPI\n",
    "\n",
    "    return latitude, longitude\n",
    "\n",
    "\n",
    "# LatLon2XY(40.07837722329, 116.23514827596)\n",
    "XY2LatLon(434760.7611718801, 4438512.040474475, 117.0)\n",
    "\n",
    "x = 4404440.000000\n",
    "y = 14507860.000000\n",
    "# 14507860.000000,4404440.000000\n",
    "\n",
    "tmp = XY2LatLon(y,x)\n",
    "tmp"
   ]
  },
  {
   "cell_type": "code",
   "execution_count": 17,
   "id": "5f91ea5a",
   "metadata": {},
   "outputs": [
    {
     "data": {
      "text/plain": [
       "1352.5"
      ]
     },
     "execution_count": 17,
     "metadata": {},
     "output_type": "execute_result"
    }
   ],
   "source": [
    "40 81      40 170\n",
    "\n",
    "75 81\n",
    "\n",
    "40,142\n",
    "48,136\n",
    "58,154\n",
    "66,171\n",
    "75,189\n",
    "93,222\n",
    "111,257\n",
    "129,292\n",
    "138,304\n",
    "147,318\n",
    "156,332\n",
    "161,342\n",
    "163,345"
   ]
  },
  {
   "cell_type": "code",
   "execution_count": null,
   "id": "5b59581f",
   "metadata": {},
   "outputs": [],
   "source": [
    "p=[\n",
    "    [40,142],\n",
    "    [48,136],\n",
    "    [58,154],\n",
    "    [66,171],\n",
    "    [75,189],\n",
    "    [93,222],\n",
    "    [111,257],\n",
    "    [129,292],\n",
    "    [138,304],\n",
    "    [147,318],\n",
    "    [156,332],\n",
    "    [161,342],\n",
    "    [163,345]\n",
    "]"
   ]
  }
 ],
 "metadata": {
  "kernelspec": {
   "display_name": "Python 3",
   "language": "python",
   "name": "python3"
  },
  "language_info": {
   "codemirror_mode": {
    "name": "ipython",
    "version": 3
   },
   "file_extension": ".py",
   "mimetype": "text/x-python",
   "name": "python",
   "nbconvert_exporter": "python",
   "pygments_lexer": "ipython3",
   "version": "3.8.8"
  }
 },
 "nbformat": 4,
 "nbformat_minor": 5
}
