{
 "cells": [
  {
   "cell_type": "code",
   "execution_count": 79,
   "metadata": {},
   "outputs": [],
   "source": [
    "import pandas as pd\n",
    "import pandas as pd\n",
    "import copy\n",
    "import random as rd\n",
    "import warnings\n",
    "warnings.filterwarnings(\"ignore\")\n",
    "import matplotlib.pyplot as plt \n",
    "import math\n",
    "from matplotlib import font_manager\n",
    "\n",
    "fontP = font_manager.FontProperties()\n",
    "fontP.set_family('SimHei')\n",
    "fontP.set_size(14)"
   ]
  },
  {
   "cell_type": "code",
   "execution_count": 13,
   "metadata": {},
   "outputs": [
    {
     "data": {
      "text/plain": [
       "(38.89784353649511, 83.88044409462027)"
      ]
     },
     "execution_count": 13,
     "metadata": {},
     "output_type": "execute_result"
    }
   ],
   "source": [
    "#!/ usr/bin/python\n",
    "# -*- coding:utf-8 -*-\n",
    "import matplotlib.pyplot as plt\n",
    "import math\n",
    "\n",
    "\n",
    "def dcm2dgr(a):#大地坐标经纬度小数表示转度数表示\n",
    "    x = int(a)\n",
    "    tmpy = a-x\n",
    "    y = int(tmpy*60)\n",
    "    tmpz = tmpy*60 - y\n",
    "    z = tmpz*60\n",
    "    return (x,y,z)\n",
    "def dgr2dcm(a):#大地坐标经纬度度数表示转小数表示\n",
    "    x,y,z = a\n",
    "    return x+y/60+z/3600\n",
    "\n",
    "\n",
    "def XY2LatLon(X, Y, L0=42+39):#+39变成6度投影\n",
    "\n",
    "    iPI = 0.0174532925199433\n",
    "    a = 6378137.0\n",
    "    f= 0.00335281006247\n",
    "    ZoneWide = 3 #按3度带进行投影\n",
    "\n",
    "    ProjNo = int(X / 1000000)\n",
    "    L0 = L0 * iPI\n",
    "    X0 = ProjNo * 1000000 + 500000\n",
    "    Y0 = 0\n",
    "    xval = X - X0\n",
    "    yval = Y - Y0\n",
    "\n",
    "    e2 = 2 * f - f * f #第一偏心率平方\n",
    "    e1 = (1.0 - math.sqrt(1 - e2)) / (1.0 + math.sqrt(1 - e2))\n",
    "    ee = e2 / (1 - e2) #第二偏心率平方\n",
    "\n",
    "    M = yval\n",
    "    u = M / (a * (1 - e2 / 4 - 3 * e2 * e2 / 64 - 5 * e2 * e2 * e2 / 256))\n",
    "\n",
    "    fai = u \\\n",
    "          + (3 * e1 / 2 - 27 * e1 * e1 * e1 / 32) * math.sin(2 * u) \\\n",
    "          + (21 * e1 * e1 / 16 - 55 * e1 * e1 * e1 * e1 / 32) * math.sin(4 * u) \\\n",
    "          + (151 * e1 * e1 * e1 / 96) * math.sin(6 * u)\\\n",
    "          + (1097 * e1 * e1 * e1 * e1 / 512) * math.sin(8 * u)\n",
    "    C = ee * math.cos(fai) * math.cos(fai)\n",
    "    T = math.tan(fai) * math.tan(fai)\n",
    "    NN = a / math.sqrt(1.0 - e2 * math.sin(fai) * math.sin(fai))\n",
    "    R = a * (1 - e2) / math.sqrt(\n",
    "        (1 - e2 * math.sin(fai) * math.sin(fai)) * (1 - e2 * math.sin(fai) * math.sin(fai)) * (1 - e2 * math.sin(fai) * math.sin(fai)))\n",
    "    D = xval / NN\n",
    "\n",
    "    #计算经纬度（弧度单位的经纬度）\n",
    "    longitude1 = L0 + (D - (1 + 2 * T + C) * D * D * D / 6 + (\n",
    "    5 - 2 * C + 28 * T - 3 * C * C + 8 * ee + 24 * T * T) * D * D * D * D * D / 120) / math.cos(fai)\n",
    "    latitude1 = fai - (NN * math.tan(fai) / R) * (\n",
    "    D * D / 2 - (5 + 3 * T + 10 * C - 4 * C * C - 9 * ee) * D * D * D * D / 24 + (\n",
    "    61 + 90 * T + 298 * C + 45 * T * T - 256 * ee - 3 * C * C) * D * D * D * D * D * D / 720)\n",
    "\n",
    "    #换换为deg\n",
    "    longitude = longitude1 / iPI\n",
    "    latitude = latitude1 / iPI\n",
    "\n",
    "    return latitude, longitude\n",
    "\n",
    "\n",
    "# LatLon2XY(40.07837722329, 116.23514827596)\n",
    "# XY2LatLon(434760.7611718801, 4438512.040474475, 117.0)\n",
    "\n",
    "x = 4311109.5\n",
    "y = 14749903.4\n",
    "\n",
    "tmp = XY2LatLon(y,x)\n",
    "tmp"
   ]
  },
  {
   "cell_type": "code",
   "execution_count": 21,
   "metadata": {},
   "outputs": [],
   "source": [
    "pthLayerSeq = r'D:\\workplace\\geoproject\\pictureproject\\data\\material\\温度\\地层层序-井深.xlsx'\n",
    "dataLayerSeq= pd.read_excel(pthLayerSeq)\n",
    "pthBaseInfo = r'D:\\workplace\\geoproject\\pictureproject\\data\\material\\温度\\基本信息.xlsx'\n",
    "dataBaseInfo= pd.read_excel(pthBaseInfo)\n",
    "\n",
    "allTmprt = {}\n",
    "for index, row in dataBaseInfo.iterrows():\n",
    "    posWell = row['井位']\n",
    "    hf = row['地表热流']\n",
    "    gt = row['地表温度']\n",
    "\n",
    "    pthStaticTmprt = r'D:\\workplace\\geoproject\\pictureproject\\data\\material\\温度\\xlsx-静温\\静温-%s.xlsx' % posWell\n",
    "    staticTmprt = pd.read_excel( pthStaticTmprt )\n",
    "\n",
    "    allTmprt[posWell] = staticTmprt "
   ]
  },
  {
   "cell_type": "code",
   "execution_count": 18,
   "metadata": {},
   "outputs": [],
   "source": [
    "# 根据距离找到K个相邻的位置\n",
    "# 把目标井位的第i个深度对Kj个相邻井位求静温\n",
    "# 平均这几个静温\n",
    "\n",
    "def caldis(pos1, pos2):\n",
    "    x = pos1[0]-pos2[0]\n",
    "    y = pos1[1]-pos2[1]\n",
    "    return math.sqrt( x*x+y*y )\n",
    "\n",
    "X = []\n",
    "trainX = []\n",
    "trainXpos = []\n",
    "validX = []\n",
    "validXpos = []\n",
    "Xpos = []\n",
    "for index, row in dataBaseInfo.iterrows():\n",
    "    posWell = row['井位']\n",
    "    row = dataBaseInfo[ dataBaseInfo['井位']==posWell ]\n",
    "\n",
    "    tarX = float( row['X'] )\n",
    "    tarY = float( row['Y'] )\n",
    "\n",
    "    tarpos = XY2LatLon( tarY, tarX)\n",
    "    tarpos = (round(tarpos[0],6), round(tarpos[1], 6))\n",
    "\n",
    "    X.append( posWell )\n",
    "    Xpos.append( tarpos )\n",
    "\n",
    "trainX.extend( X[0:len(X)-1])\n",
    "trainXpos.extend( Xpos[0:len(Xpos)-1] )\n",
    "validX.append( X[-1])\n",
    "validXpos.append( Xpos[-1])"
   ]
  },
  {
   "cell_type": "code",
   "execution_count": 20,
   "metadata": {},
   "outputs": [],
   "source": [
    "tarWell = validX[0]\n",
    "tarpos = validXpos[0] "
   ]
  },
  {
   "cell_type": "code",
   "execution_count": 76,
   "metadata": {},
   "outputs": [],
   "source": [
    "K = 1\n",
    "\n",
    "def guess(trainX, trainXpos, allTmprt, tarWell, tarpos, K):\n",
    "    alldis = []\n",
    "    for i in range(len(trainX)):\n",
    "        apos = trainXpos[i]\n",
    "\n",
    "        dis = caldis( tarpos, apos)\n",
    "        alldis.append( dis )\n",
    "\n",
    "    idx = sorted(range(len(alldis)), key=lambda k: alldis[k])\n",
    "    kidx = idx[0:K]\n",
    "\n",
    "    print(kidx)\n",
    "\n",
    "    tarTmprt = allTmprt[tarWell].values\n",
    "\n",
    "\n",
    "    lstTarTmprt = []\n",
    "    for i in range( len(tarTmprt)-1 ):\n",
    "        apos = tarTmprt[i][0]\n",
    "        # print( apos )\n",
    "\n",
    "        lsttmprt = []\n",
    "        for i in kidx:\n",
    "            wellName = trainX[i]\n",
    "            wellPos = trainXpos[i]\n",
    "\n",
    "            tmprt = allTmprt[wellName].values\n",
    "\n",
    "            if apos < tmprt[0][0] or apos >tmprt[-1][0]:\n",
    "\n",
    "                atmprt = tmprt[i][1]+ (apos-tmprt[-2][0])/(tmprt[-1][0]-tmprt[-2][0])* \\\n",
    "                        (tmprt[-1][1]-tmprt[-2][1])\n",
    "                lsttmprt.append( atmprt )\n",
    "                continue\n",
    "\n",
    "            atmprt = 0\n",
    "            for i in range( len(tmprt)-1 ):\n",
    "                iL = i+1\n",
    "                # print(i,iL)\n",
    "                if apos>= tmprt[i][0] and apos<tmprt[iL][0]:\n",
    "                    # print(tmprt[i][1], tmprt[i][0], tmprt[iL][0], tmprt[i][1], tmprt[iL][1])\n",
    "                    atmprt = tmprt[i][1]+ (apos-tmprt[i][0])/(tmprt[iL][0]-tmprt[i][0])* \\\n",
    "                            (tmprt[iL][1]-tmprt[i][1])\n",
    "                    \n",
    "                    lsttmprt.append( atmprt )\n",
    "                    break \n",
    "        if len(lsttmprt ) != K:\n",
    "            print('aaaaaaaaaaaaaaaa')\n",
    "            # print('not in range')\n",
    "        aTarTmprt = sum( lsttmprt)/len( lsttmprt)\n",
    "        lstTarTmprt.append( round(aTarTmprt, 2) )\n",
    "    # print(lstTarTmprt )\n",
    "    return lstTarTmprt"
   ]
  },
  {
   "cell_type": "code",
   "execution_count": 77,
   "metadata": {},
   "outputs": [
    {
     "name": "stdout",
     "output_type": "stream",
     "text": [
      "[0]\n",
      "[0, 2]\n",
      "[0, 2, 1]\n",
      "[0, 2, 1, 3]\n"
     ]
    },
    {
     "data": {
      "text/plain": [
       "[39.57, 224.77, 223.36, 180.85]"
      ]
     },
     "execution_count": 77,
     "metadata": {},
     "output_type": "execute_result"
    }
   ],
   "source": [
    "\n",
    "\n",
    "lstError = []\n",
    "for i in range(1, 5):\n",
    "    error = 0\n",
    "    lstTarTmprt = guess(trainX, trainXpos, allTmprt, tarWell, tarpos,i)\n",
    "\n",
    "    tarTmprt = allTmprt[tarWell].values\n",
    "    \n",
    "    for i in range( len(lstTarTmprt) ):\n",
    "        guessTmprt = lstTarTmprt[i]\n",
    "        realTmprt = tarTmprt[i][1]\n",
    "        error += abs( guessTmprt-realTmprt )\n",
    "    lstError.append( round(error,2) )\n",
    "lstError"
   ]
  },
  {
   "cell_type": "code",
   "execution_count": null,
   "metadata": {},
   "outputs": [],
   "source": []
  },
  {
   "cell_type": "code",
   "execution_count": 89,
   "metadata": {},
   "outputs": [
    {
     "data": {
      "image/png": "[encoded data removed]",
      "text/plain": [
       "<Figure size 432x288 with 1 Axes>"
      ]
     },
     "metadata": {
      "needs_background": "light"
     },
     "output_type": "display_data"
    }
   ],
   "source": [
    "plt.plot( [k for k in range(1, len(lstError)+1)], lstError )\n",
    "plt.xlabel('K',  FontProperties=fontP)\n",
    "plt.ylabel('绝对误差',  FontProperties=fontP)\n",
    "plt.show()"
   ]
  },
  {
   "cell_type": "code",
   "execution_count": 86,
   "metadata": {},
   "outputs": [
    {
     "name": "stdout",
     "output_type": "stream",
     "text": [
      "[0]\n"
     ]
    },
    {
     "data": {
      "image/png": "[encoded data removed]",
      "text/plain": [
       "<Figure size 432x288 with 1 Axes>"
      ]
     },
     "metadata": {
      "needs_background": "light"
     },
     "output_type": "display_data"
    }
   ],
   "source": [
    "lstTarTmprt = guess(trainX, trainXpos, allTmprt, tarWell, tarpos,1)\n",
    "\n",
    "realTmprt=[tarTmprt[i][1] for i in range(len(lstTarTmprt))]\n",
    "dpth = [tarTmprt[i][0] for i in range(len(lstTarTmprt))]\n",
    "plt.plot( dpth, lstTarTmprt,'*', label='估计地温')\n",
    "plt.xlabel('深度',  FontProperties=fontP)\n",
    "plt.ylabel('地温',  FontProperties=fontP)\n",
    "plt.plot( dpth, realTmprt, 'o', label='真实地温' )\n",
    "plt.legend( prop=fontP )\n",
    "plt.show()"
   ]
  },
  {
   "cell_type": "code",
   "execution_count": 54,
   "metadata": {},
   "outputs": [
    {
     "data": {
      "text/plain": [
       "146.63"
      ]
     },
     "execution_count": 54,
     "metadata": {},
     "output_type": "execute_result"
    }
   ],
   "source": [
    "realTmprt"
   ]
  }
 ],
 "metadata": {
  "interpreter": {
   "hash": "7dc063f8a007a4028c6ebe79c824417bc30f5f951826f62a4b2313d250bc8393"
  },
  "kernelspec": {
   "display_name": "Python 3.8.8 64-bit",
   "language": "python",
   "name": "python3"
  },
  "language_info": {
   "codemirror_mode": {
    "name": "ipython",
    "version": 3
   },
   "file_extension": ".py",
   "mimetype": "text/x-python",
   "name": "python",
   "nbconvert_exporter": "python",
   "pygments_lexer": "ipython3",
   "version": "3.8.8"
  },
  "orig_nbformat": 4
 },
 "nbformat": 4,
 "nbformat_minor": 2
}
